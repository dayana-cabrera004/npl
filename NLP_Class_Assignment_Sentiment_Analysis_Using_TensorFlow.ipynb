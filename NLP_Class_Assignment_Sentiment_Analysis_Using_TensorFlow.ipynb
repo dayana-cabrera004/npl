{
  "nbformat": 4,
  "nbformat_minor": 0,
  "metadata": {
    "colab": {
      "provenance": [],
      "authorship_tag": "ABX9TyMUI1ZVwmV6kNc395Olco7l",
      "include_colab_link": true
    },
    "kernelspec": {
      "name": "python3",
      "display_name": "Python 3"
    },
    "language_info": {
      "name": "python"
    }
  },
  "cells": [
    {
      "cell_type": "markdown",
      "metadata": {
        "id": "view-in-github",
        "colab_type": "text"
      },
      "source": [
        "<a href=\"https://colab.research.google.com/github/dayana-cabrera004/npl/blob/main/NLP_Class_Assignment_Sentiment_Analysis_Using_TensorFlow.ipynb\" target=\"_parent\"><img src=\"https://colab.research.google.com/assets/colab-badge.svg\" alt=\"Open In Colab\"/></a>"
      ]
    },
    {
      "cell_type": "markdown",
      "source": [
        "1. Loading the IMDb Dataset"
      ],
      "metadata": {
        "id": "piDeyfdEMqtc"
      }
    },
    {
      "cell_type": "code",
      "execution_count": 1,
      "metadata": {
        "colab": {
          "base_uri": "https://localhost:8080/",
          "height": 206
        },
        "id": "7qLVTRlQKRpf",
        "outputId": "8a02dda2-0d78-41f3-8b65-d18ef5d824ec"
      },
      "outputs": [
        {
          "output_type": "execute_result",
          "data": {
            "text/plain": [
              "                                                  review sentiment\n",
              "10037  A lot of people seemed to have liked the film,...  negative\n",
              "33670  An incredible little English film for so many ...  positive\n",
              "28574  This early film from director Bob Clark (\"Pork...  negative\n",
              "13091  I've been watching a lot of cartoon or animate...  negative\n",
              "21152  Of all the reviews I've read, most people have...  positive"
            ],
            "text/html": [
              "\n",
              "  <div id=\"df-d36a36aa-6805-42d9-8532-fa3835010a0e\" class=\"colab-df-container\">\n",
              "    <div>\n",
              "<style scoped>\n",
              "    .dataframe tbody tr th:only-of-type {\n",
              "        vertical-align: middle;\n",
              "    }\n",
              "\n",
              "    .dataframe tbody tr th {\n",
              "        vertical-align: top;\n",
              "    }\n",
              "\n",
              "    .dataframe thead th {\n",
              "        text-align: right;\n",
              "    }\n",
              "</style>\n",
              "<table border=\"1\" class=\"dataframe\">\n",
              "  <thead>\n",
              "    <tr style=\"text-align: right;\">\n",
              "      <th></th>\n",
              "      <th>review</th>\n",
              "      <th>sentiment</th>\n",
              "    </tr>\n",
              "  </thead>\n",
              "  <tbody>\n",
              "    <tr>\n",
              "      <th>10037</th>\n",
              "      <td>A lot of people seemed to have liked the film,...</td>\n",
              "      <td>negative</td>\n",
              "    </tr>\n",
              "    <tr>\n",
              "      <th>33670</th>\n",
              "      <td>An incredible little English film for so many ...</td>\n",
              "      <td>positive</td>\n",
              "    </tr>\n",
              "    <tr>\n",
              "      <th>28574</th>\n",
              "      <td>This early film from director Bob Clark (\"Pork...</td>\n",
              "      <td>negative</td>\n",
              "    </tr>\n",
              "    <tr>\n",
              "      <th>13091</th>\n",
              "      <td>I've been watching a lot of cartoon or animate...</td>\n",
              "      <td>negative</td>\n",
              "    </tr>\n",
              "    <tr>\n",
              "      <th>21152</th>\n",
              "      <td>Of all the reviews I've read, most people have...</td>\n",
              "      <td>positive</td>\n",
              "    </tr>\n",
              "  </tbody>\n",
              "</table>\n",
              "</div>\n",
              "    <div class=\"colab-df-buttons\">\n",
              "\n",
              "  <div class=\"colab-df-container\">\n",
              "    <button class=\"colab-df-convert\" onclick=\"convertToInteractive('df-d36a36aa-6805-42d9-8532-fa3835010a0e')\"\n",
              "            title=\"Convert this dataframe to an interactive table.\"\n",
              "            style=\"display:none;\">\n",
              "\n",
              "  <svg xmlns=\"http://www.w3.org/2000/svg\" height=\"24px\" viewBox=\"0 -960 960 960\">\n",
              "    <path d=\"M120-120v-720h720v720H120Zm60-500h600v-160H180v160Zm220 220h160v-160H400v160Zm0 220h160v-160H400v160ZM180-400h160v-160H180v160Zm440 0h160v-160H620v160ZM180-180h160v-160H180v160Zm440 0h160v-160H620v160Z\"/>\n",
              "  </svg>\n",
              "    </button>\n",
              "\n",
              "  <style>\n",
              "    .colab-df-container {\n",
              "      display:flex;\n",
              "      gap: 12px;\n",
              "    }\n",
              "\n",
              "    .colab-df-convert {\n",
              "      background-color: #E8F0FE;\n",
              "      border: none;\n",
              "      border-radius: 50%;\n",
              "      cursor: pointer;\n",
              "      display: none;\n",
              "      fill: #1967D2;\n",
              "      height: 32px;\n",
              "      padding: 0 0 0 0;\n",
              "      width: 32px;\n",
              "    }\n",
              "\n",
              "    .colab-df-convert:hover {\n",
              "      background-color: #E2EBFA;\n",
              "      box-shadow: 0px 1px 2px rgba(60, 64, 67, 0.3), 0px 1px 3px 1px rgba(60, 64, 67, 0.15);\n",
              "      fill: #174EA6;\n",
              "    }\n",
              "\n",
              "    .colab-df-buttons div {\n",
              "      margin-bottom: 4px;\n",
              "    }\n",
              "\n",
              "    [theme=dark] .colab-df-convert {\n",
              "      background-color: #3B4455;\n",
              "      fill: #D2E3FC;\n",
              "    }\n",
              "\n",
              "    [theme=dark] .colab-df-convert:hover {\n",
              "      background-color: #434B5C;\n",
              "      box-shadow: 0px 1px 3px 1px rgba(0, 0, 0, 0.15);\n",
              "      filter: drop-shadow(0px 1px 2px rgba(0, 0, 0, 0.3));\n",
              "      fill: #FFFFFF;\n",
              "    }\n",
              "  </style>\n",
              "\n",
              "    <script>\n",
              "      const buttonEl =\n",
              "        document.querySelector('#df-d36a36aa-6805-42d9-8532-fa3835010a0e button.colab-df-convert');\n",
              "      buttonEl.style.display =\n",
              "        google.colab.kernel.accessAllowed ? 'block' : 'none';\n",
              "\n",
              "      async function convertToInteractive(key) {\n",
              "        const element = document.querySelector('#df-d36a36aa-6805-42d9-8532-fa3835010a0e');\n",
              "        const dataTable =\n",
              "          await google.colab.kernel.invokeFunction('convertToInteractive',\n",
              "                                                    [key], {});\n",
              "        if (!dataTable) return;\n",
              "\n",
              "        const docLinkHtml = 'Like what you see? Visit the ' +\n",
              "          '<a target=\"_blank\" href=https://colab.research.google.com/notebooks/data_table.ipynb>data table notebook</a>'\n",
              "          + ' to learn more about interactive tables.';\n",
              "        element.innerHTML = '';\n",
              "        dataTable['output_type'] = 'display_data';\n",
              "        await google.colab.output.renderOutput(dataTable, element);\n",
              "        const docLink = document.createElement('div');\n",
              "        docLink.innerHTML = docLinkHtml;\n",
              "        element.appendChild(docLink);\n",
              "      }\n",
              "    </script>\n",
              "  </div>\n",
              "\n",
              "\n",
              "<div id=\"df-56fff2eb-1fc0-47d4-bf33-c4f48c4a1596\">\n",
              "  <button class=\"colab-df-quickchart\" onclick=\"quickchart('df-56fff2eb-1fc0-47d4-bf33-c4f48c4a1596')\"\n",
              "            title=\"Suggest charts\"\n",
              "            style=\"display:none;\">\n",
              "\n",
              "<svg xmlns=\"http://www.w3.org/2000/svg\" height=\"24px\"viewBox=\"0 0 24 24\"\n",
              "     width=\"24px\">\n",
              "    <g>\n",
              "        <path d=\"M19 3H5c-1.1 0-2 .9-2 2v14c0 1.1.9 2 2 2h14c1.1 0 2-.9 2-2V5c0-1.1-.9-2-2-2zM9 17H7v-7h2v7zm4 0h-2V7h2v10zm4 0h-2v-4h2v4z\"/>\n",
              "    </g>\n",
              "</svg>\n",
              "  </button>\n",
              "\n",
              "<style>\n",
              "  .colab-df-quickchart {\n",
              "      --bg-color: #E8F0FE;\n",
              "      --fill-color: #1967D2;\n",
              "      --hover-bg-color: #E2EBFA;\n",
              "      --hover-fill-color: #174EA6;\n",
              "      --disabled-fill-color: #AAA;\n",
              "      --disabled-bg-color: #DDD;\n",
              "  }\n",
              "\n",
              "  [theme=dark] .colab-df-quickchart {\n",
              "      --bg-color: #3B4455;\n",
              "      --fill-color: #D2E3FC;\n",
              "      --hover-bg-color: #434B5C;\n",
              "      --hover-fill-color: #FFFFFF;\n",
              "      --disabled-bg-color: #3B4455;\n",
              "      --disabled-fill-color: #666;\n",
              "  }\n",
              "\n",
              "  .colab-df-quickchart {\n",
              "    background-color: var(--bg-color);\n",
              "    border: none;\n",
              "    border-radius: 50%;\n",
              "    cursor: pointer;\n",
              "    display: none;\n",
              "    fill: var(--fill-color);\n",
              "    height: 32px;\n",
              "    padding: 0;\n",
              "    width: 32px;\n",
              "  }\n",
              "\n",
              "  .colab-df-quickchart:hover {\n",
              "    background-color: var(--hover-bg-color);\n",
              "    box-shadow: 0 1px 2px rgba(60, 64, 67, 0.3), 0 1px 3px 1px rgba(60, 64, 67, 0.15);\n",
              "    fill: var(--button-hover-fill-color);\n",
              "  }\n",
              "\n",
              "  .colab-df-quickchart-complete:disabled,\n",
              "  .colab-df-quickchart-complete:disabled:hover {\n",
              "    background-color: var(--disabled-bg-color);\n",
              "    fill: var(--disabled-fill-color);\n",
              "    box-shadow: none;\n",
              "  }\n",
              "\n",
              "  .colab-df-spinner {\n",
              "    border: 2px solid var(--fill-color);\n",
              "    border-color: transparent;\n",
              "    border-bottom-color: var(--fill-color);\n",
              "    animation:\n",
              "      spin 1s steps(1) infinite;\n",
              "  }\n",
              "\n",
              "  @keyframes spin {\n",
              "    0% {\n",
              "      border-color: transparent;\n",
              "      border-bottom-color: var(--fill-color);\n",
              "      border-left-color: var(--fill-color);\n",
              "    }\n",
              "    20% {\n",
              "      border-color: transparent;\n",
              "      border-left-color: var(--fill-color);\n",
              "      border-top-color: var(--fill-color);\n",
              "    }\n",
              "    30% {\n",
              "      border-color: transparent;\n",
              "      border-left-color: var(--fill-color);\n",
              "      border-top-color: var(--fill-color);\n",
              "      border-right-color: var(--fill-color);\n",
              "    }\n",
              "    40% {\n",
              "      border-color: transparent;\n",
              "      border-right-color: var(--fill-color);\n",
              "      border-top-color: var(--fill-color);\n",
              "    }\n",
              "    60% {\n",
              "      border-color: transparent;\n",
              "      border-right-color: var(--fill-color);\n",
              "    }\n",
              "    80% {\n",
              "      border-color: transparent;\n",
              "      border-right-color: var(--fill-color);\n",
              "      border-bottom-color: var(--fill-color);\n",
              "    }\n",
              "    90% {\n",
              "      border-color: transparent;\n",
              "      border-bottom-color: var(--fill-color);\n",
              "    }\n",
              "  }\n",
              "</style>\n",
              "\n",
              "  <script>\n",
              "    async function quickchart(key) {\n",
              "      const quickchartButtonEl =\n",
              "        document.querySelector('#' + key + ' button');\n",
              "      quickchartButtonEl.disabled = true;  // To prevent multiple clicks.\n",
              "      quickchartButtonEl.classList.add('colab-df-spinner');\n",
              "      try {\n",
              "        const charts = await google.colab.kernel.invokeFunction(\n",
              "            'suggestCharts', [key], {});\n",
              "      } catch (error) {\n",
              "        console.error('Error during call to suggestCharts:', error);\n",
              "      }\n",
              "      quickchartButtonEl.classList.remove('colab-df-spinner');\n",
              "      quickchartButtonEl.classList.add('colab-df-quickchart-complete');\n",
              "    }\n",
              "    (() => {\n",
              "      let quickchartButtonEl =\n",
              "        document.querySelector('#df-56fff2eb-1fc0-47d4-bf33-c4f48c4a1596 button');\n",
              "      quickchartButtonEl.style.display =\n",
              "        google.colab.kernel.accessAllowed ? 'block' : 'none';\n",
              "    })();\n",
              "  </script>\n",
              "</div>\n",
              "\n",
              "    </div>\n",
              "  </div>\n"
            ],
            "application/vnd.google.colaboratory.intrinsic+json": {
              "type": "dataframe",
              "summary": "{\n  \"name\": \"df\",\n  \"rows\": 5,\n  \"fields\": [\n    {\n      \"column\": \"review\",\n      \"properties\": {\n        \"dtype\": \"string\",\n        \"num_unique_values\": 5,\n        \"samples\": [\n          \"An incredible little English film for so many reasons. First it's a rare look a Laurence Olivier in a light comedy. While his performance is not up the standard he would latter set as one of the greatest actors of the 20th century, he is perfectly believable as the hoodwinked barrister. Historically this film is of great interest because of both where and when it was shoot. Being English it didn't have the big budget of the Hollywood films of the same era and it often shows, but more interesting is the fact this movie filmed just prior to the war and shows an England that would soon be gone. When we watch it today we think in terms of modern morality and over look the fact that this movie and its closest American counter part `It Happened One Night' were in their day as risqu\\u00e9 as `Fatal Instinct' was in our time. But after watching and enjoying this movie the first time I can't help but feel sadness when I watch it today. With half of film shoot before 1950 gone, saving the remaining films means hard choices, and unfortunately films like this are often passed over to save movies that we all consider important. The color shifting, lack of contrast, and generally poor quality of the print most often seen is heartbreaking. This movie along with `It Happened One Night' are perfect to curl up with a love one under a blanket on cool a cool evening and watch, or better yet why not a double feature.\",\n          \"Of all the reviews I've read, most people have been exceedingly hard on Alexandre. Neither Marie or Veronika ever seemed that they would particularly desperate to keep Alexandre, he being only slightly intelligent though not at all intellectual, as most of us are, however hard it may be for anyone to admit. Alexandre is getting away with life perfectly, being totally taken care of, getting and giving what he wants. the girls are allowing this, veronika loves sex, marie is his patron. is there anything wrong with any of this? is anyone in love? really? i don't think so. Though French New Wave cinema is prone to pretension and so on, it is marvelous simply because of its lack of a need for a plot in order to create emotion. Ease is perfectly lovely and all anyone in Alexandre's position, in an urban area can ask for. I'm looking for a patron, anyone interested?\",\n          \"This early film from director Bob Clark (\\\"Porky's\\\", \\\"Black Christmas\\\", \\\"A Christmas Story\\\") didn't really pump my nads like I expected. In fact, it straight up annoyed me. It's about a theater troupe who sail to a burial island, consisting of dead criminals, where they plan to conjure some evil forces and resurrect some corpses... The leader of their group, a conceited black-magic enthusiast and possible homosexual, attempts to summon Satan's help with the re-animation of an exhumed body, which fails so they take the corpse to the nearby, deserted caretaker's house and play with it... Nothing interesting happens until the last fifteen minutes or so when the undead finally spring from their graves and go after the desecrater's. The make-up effects are okay, the gore is VERY minimal (PG rating), and the extremely irritating characters are focused on way to much, which really got on my nerves. I guess having group of terrible actors bickering for an hour was suppose to equal some \\\"comedic\\\" status, yet I found no humor in it, whatsoever. The entire concept is just ridiculous - how these kids are willing to dig up and monkey around with a dead body for as long as they did. The characters are stereotypical and bland and the movie is just plain boring... Don't waste your time with it...\"\n        ],\n        \"semantic_type\": \"\",\n        \"description\": \"\"\n      }\n    },\n    {\n      \"column\": \"sentiment\",\n      \"properties\": {\n        \"dtype\": \"category\",\n        \"num_unique_values\": 2,\n        \"samples\": [\n          \"positive\",\n          \"negative\"\n        ],\n        \"semantic_type\": \"\",\n        \"description\": \"\"\n      }\n    }\n  ]\n}"
            }
          },
          "metadata": {},
          "execution_count": 1
        }
      ],
      "source": [
        "import numpy as np\n",
        "import pandas as pd\n",
        "\n",
        "# Load the dataset\n",
        "df = pd.read_csv('/content/IMDB Dataset.csv')\n",
        "df.sample(5)"
      ]
    },
    {
      "cell_type": "markdown",
      "source": [
        "2. Data Cleaning and Preprocessing"
      ],
      "metadata": {
        "id": "DMiXGWHdMuwN"
      }
    },
    {
      "cell_type": "code",
      "source": [
        "import re\n",
        "from tensorflow.keras.preprocessing.text import Tokenizer\n",
        "from tensorflow.keras.preprocessing.sequence import pad_sequences\n",
        "\n",
        "# Function to clean text\n",
        "def clean_text(text):\n",
        "    text = re.sub(r'<.*?>', '', text)  # Remove HTML tags\n",
        "    text = re.sub(r'[^a-zA-Z\\s]', '', text)  # Remove non-alphabet characters\n",
        "    return text.lower().strip()\n",
        "\n",
        "# Clean the reviews\n",
        "df['review'] = df['review'].apply(clean_text)\n",
        "\n",
        "# Tokenization and padding\n",
        "tokenizer = Tokenizer(num_words=10000, oov_token='<OOV>')\n",
        "tokenizer.fit_on_texts(df['review'])\n",
        "sequences = tokenizer.texts_to_sequences(df['review'])\n",
        "padded_sequences = pad_sequences(sequences, maxlen=200)"
      ],
      "metadata": {
        "id": "qFsSQ1ntM4-P"
      },
      "execution_count": 2,
      "outputs": []
    },
    {
      "cell_type": "markdown",
      "source": [
        "3. Converting Labels to Numeric Format"
      ],
      "metadata": {
        "id": "4eYqyooJM0jN"
      }
    },
    {
      "cell_type": "code",
      "source": [
        "# Convert sentiment labels to binary\n",
        "df['sentiment'] = df['sentiment'].apply(lambda x: 1 if x == 'positive' else 0)\n",
        "\n",
        "# Splitting the data into features (X) and labels (y)\n",
        "X = padded_sequences\n",
        "y = df['sentiment'].values"
      ],
      "metadata": {
        "id": "gVkOAgt1M5vK"
      },
      "execution_count": 3,
      "outputs": []
    },
    {
      "cell_type": "markdown",
      "source": [
        "4. Splitting the Data into Training and Testing Sets"
      ],
      "metadata": {
        "id": "viOJGWCeM71A"
      }
    },
    {
      "cell_type": "code",
      "source": [
        "from sklearn.model_selection import train_test_split\n",
        "\n",
        "X_train, X_test, y_train, y_test = train_test_split(X, y, test_size=0.2, random_state=42)"
      ],
      "metadata": {
        "id": "94jWYnxgM-p8"
      },
      "execution_count": 4,
      "outputs": []
    },
    {
      "cell_type": "markdown",
      "source": [
        "5. Building the Neural Network with TensorFlow"
      ],
      "metadata": {
        "id": "iGoIpEkMM_PH"
      }
    },
    {
      "cell_type": "code",
      "source": [
        "import tensorflow as tf\n",
        "\n",
        "model = tf.keras.Sequential([\n",
        "    tf.keras.layers.Embedding(10000, 16, input_length=200),\n",
        "    tf.keras.layers.LSTM(64, return_sequences=True),\n",
        "    tf.keras.layers.LSTM(32),\n",
        "    tf.keras.layers.Dense(24, activation='relu'),\n",
        "    tf.keras.layers.Dense(1, activation='sigmoid')\n",
        "])\n",
        "\n",
        "model.compile(\n",
        "    loss='binary_crossentropy',\n",
        "    optimizer='adam',\n",
        "    metrics=['accuracy']\n",
        ")\n",
        "\n",
        "history = model.fit(X_train, y_train, epochs=10, validation_split=0.2)"
      ],
      "metadata": {
        "colab": {
          "base_uri": "https://localhost:8080/"
        },
        "id": "ahJJFkDmNCEu",
        "outputId": "29938139-4899-4985-965f-8b3f8aa6424a"
      },
      "execution_count": null,
      "outputs": [
        {
          "output_type": "stream",
          "name": "stdout",
          "text": [
            "Epoch 1/10\n",
            "\u001b[1m 326/1000\u001b[0m \u001b[32m━━━━━━\u001b[0m\u001b[37m━━━━━━━━━━━━━━\u001b[0m \u001b[1m1:55\u001b[0m 171ms/step - accuracy: 0.5749 - loss: 0.6572"
          ]
        }
      ]
    },
    {
      "cell_type": "markdown",
      "source": [
        "6. Visualizing Model Performance"
      ],
      "metadata": {
        "id": "MD5Bv9cENDAM"
      }
    },
    {
      "cell_type": "code",
      "source": [
        "import matplotlib.pyplot as plt\n",
        "\n",
        "plt.plot(history.history['accuracy'], label='Training Accuracy')\n",
        "plt.plot(history.history['val_accuracy'], label='Validation Accuracy')\n",
        "plt.xlabel('Epochs')\n",
        "plt.ylabel('Accuracy')\n",
        "plt.legend()\n",
        "plt.show()"
      ],
      "metadata": {
        "id": "tGEb1SUYNGqp"
      },
      "execution_count": null,
      "outputs": []
    },
    {
      "cell_type": "markdown",
      "source": [
        "7. Evaluating the Model"
      ],
      "metadata": {
        "id": "ODLEJIr6NIx9"
      }
    },
    {
      "cell_type": "code",
      "source": [
        "test_loss, test_accuracy = model.evaluate(X_test, y_test)\n",
        "print(f'Test Accuracy: {test_accuracy:.2f}')"
      ],
      "metadata": {
        "id": "EGC994-TNQZR"
      },
      "execution_count": null,
      "outputs": []
    },
    {
      "cell_type": "markdown",
      "source": [
        "8. Making Predictions"
      ],
      "metadata": {
        "id": "v5M4yvP4NMig"
      }
    },
    {
      "cell_type": "code",
      "source": [
        "sample_reviews = [\n",
        "    \"I absolutely loved this movie! The plot was thrilling and the characters were so well developed.\",\n",
        "    \"The film was a disaster. Poor acting and a predictable storyline.\"\n",
        "]\n",
        "\n",
        "sample_sequences = tokenizer.texts_to_sequences(sample_reviews)\n",
        "sample_padded = pad_sequences(sample_sequences, maxlen=200)\n",
        "\n",
        "predictions = model.predict(sample_padded)\n",
        "print([\"Positive\" if prob > 0.5 else \"Negative\" for prob in predictions])"
      ],
      "metadata": {
        "id": "rob6tHzmNRoe"
      },
      "execution_count": null,
      "outputs": []
    },
    {
      "cell_type": "markdown",
      "source": [
        "1. Loading the Reviews Dataset"
      ],
      "metadata": {
        "id": "RRB8B8ZDO3Db"
      }
    },
    {
      "cell_type": "code",
      "source": [],
      "metadata": {
        "id": "nu1q8jafO7f9"
      },
      "execution_count": null,
      "outputs": []
    },
    {
      "cell_type": "markdown",
      "source": [
        "2. Data Cleaning and Preprocessing"
      ],
      "metadata": {
        "id": "nU5v60rHO9Q7"
      }
    },
    {
      "cell_type": "code",
      "source": [],
      "metadata": {
        "id": "NBL1pQyhPCex"
      },
      "execution_count": null,
      "outputs": []
    },
    {
      "cell_type": "markdown",
      "source": [
        "3. Converting Labels to Numeric Format"
      ],
      "metadata": {
        "id": "51qOHlIXPERL"
      }
    },
    {
      "cell_type": "code",
      "source": [],
      "metadata": {
        "id": "PdX0naI8PIRY"
      },
      "execution_count": null,
      "outputs": []
    },
    {
      "cell_type": "markdown",
      "source": [
        "4. Splitting the Data into Training and Testing Sets"
      ],
      "metadata": {
        "id": "wUHjeJP3PIsW"
      }
    },
    {
      "cell_type": "code",
      "source": [],
      "metadata": {
        "id": "oIObNsh7PNPs"
      },
      "execution_count": null,
      "outputs": []
    },
    {
      "cell_type": "markdown",
      "source": [
        "5. Building the Neural Network with TensorFlow"
      ],
      "metadata": {
        "id": "ahby5wffPNp6"
      }
    },
    {
      "cell_type": "code",
      "source": [],
      "metadata": {
        "id": "nYnBPXjkPSkf"
      },
      "execution_count": null,
      "outputs": []
    },
    {
      "cell_type": "markdown",
      "source": [
        "6. Visualizing Model Performance"
      ],
      "metadata": {
        "id": "psLZ1xSwPW6Z"
      }
    },
    {
      "cell_type": "code",
      "source": [],
      "metadata": {
        "id": "Vava1BqDPWJh"
      },
      "execution_count": null,
      "outputs": []
    },
    {
      "cell_type": "markdown",
      "source": [
        "7. Evaluating the Model"
      ],
      "metadata": {
        "id": "kQQQLycLPY3N"
      }
    },
    {
      "cell_type": "code",
      "source": [],
      "metadata": {
        "id": "IfVBh5OLPe1L"
      },
      "execution_count": null,
      "outputs": []
    },
    {
      "cell_type": "markdown",
      "source": [
        "8. Making Predictions"
      ],
      "metadata": {
        "id": "Mlw6AKxUPfNZ"
      }
    },
    {
      "cell_type": "code",
      "source": [],
      "metadata": {
        "id": "HQu1uIIaPjM-"
      },
      "execution_count": null,
      "outputs": []
    }
  ]
}