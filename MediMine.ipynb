{
  "nbformat": 4,
  "nbformat_minor": 0,
  "metadata": {
    "colab": {
      "provenance": [],
      "include_colab_link": true
    },
    "kernelspec": {
      "name": "python3",
      "display_name": "Python 3"
    },
    "language_info": {
      "name": "python"
    }
  },
  "cells": [
    {
      "cell_type": "markdown",
      "metadata": {
        "id": "view-in-github",
        "colab_type": "text"
      },
      "source": [
        "<a href=\"https://colab.research.google.com/github/dayana-cabrera004/npl/blob/main/MediMine.ipynb\" target=\"_parent\"><img src=\"https://colab.research.google.com/assets/colab-badge.svg\" alt=\"Open In Colab\"/></a>"
      ]
    },
    {
      "cell_type": "code",
      "execution_count": 2,
      "metadata": {
        "colab": {
          "base_uri": "https://localhost:8080/"
        },
        "collapsed": true,
        "id": "0z87XWPMovrz",
        "outputId": "e0f2e2af-77cc-4b69-9a04-171f85758611"
      },
      "outputs": [
        {
          "output_type": "stream",
          "name": "stdout",
          "text": [
            "Requirement already satisfied: gradio in /usr/local/lib/python3.10/dist-packages (5.8.0)\n",
            "Requirement already satisfied: aiofiles<24.0,>=22.0 in /usr/local/lib/python3.10/dist-packages (from gradio) (23.2.1)\n",
            "Requirement already satisfied: anyio<5.0,>=3.0 in /usr/local/lib/python3.10/dist-packages (from gradio) (3.7.1)\n",
            "Requirement already satisfied: fastapi<1.0,>=0.115.2 in /usr/local/lib/python3.10/dist-packages (from gradio) (0.115.6)\n",
            "Requirement already satisfied: ffmpy in /usr/local/lib/python3.10/dist-packages (from gradio) (0.4.0)\n",
            "Requirement already satisfied: gradio-client==1.5.1 in /usr/local/lib/python3.10/dist-packages (from gradio) (1.5.1)\n",
            "Requirement already satisfied: httpx>=0.24.1 in /usr/local/lib/python3.10/dist-packages (from gradio) (0.28.0)\n",
            "Requirement already satisfied: huggingface-hub>=0.25.1 in /usr/local/lib/python3.10/dist-packages (from gradio) (0.26.3)\n",
            "Requirement already satisfied: jinja2<4.0 in /usr/local/lib/python3.10/dist-packages (from gradio) (3.1.4)\n",
            "Requirement already satisfied: markupsafe~=2.0 in /usr/local/lib/python3.10/dist-packages (from gradio) (2.1.5)\n",
            "Requirement already satisfied: numpy<3.0,>=1.0 in /usr/local/lib/python3.10/dist-packages (from gradio) (1.26.4)\n",
            "Requirement already satisfied: orjson~=3.0 in /usr/local/lib/python3.10/dist-packages (from gradio) (3.10.12)\n",
            "Requirement already satisfied: packaging in /usr/local/lib/python3.10/dist-packages (from gradio) (24.2)\n",
            "Requirement already satisfied: pandas<3.0,>=1.0 in /usr/local/lib/python3.10/dist-packages (from gradio) (2.2.2)\n",
            "Requirement already satisfied: pillow<12.0,>=8.0 in /usr/local/lib/python3.10/dist-packages (from gradio) (11.0.0)\n",
            "Requirement already satisfied: pydantic>=2.0 in /usr/local/lib/python3.10/dist-packages (from gradio) (2.10.3)\n",
            "Requirement already satisfied: pydub in /usr/local/lib/python3.10/dist-packages (from gradio) (0.25.1)\n",
            "Requirement already satisfied: python-multipart>=0.0.18 in /usr/local/lib/python3.10/dist-packages (from gradio) (0.0.19)\n",
            "Requirement already satisfied: pyyaml<7.0,>=5.0 in /usr/local/lib/python3.10/dist-packages (from gradio) (6.0.2)\n",
            "Requirement already satisfied: ruff>=0.2.2 in /usr/local/lib/python3.10/dist-packages (from gradio) (0.8.2)\n",
            "Requirement already satisfied: safehttpx<0.2.0,>=0.1.6 in /usr/local/lib/python3.10/dist-packages (from gradio) (0.1.6)\n",
            "Requirement already satisfied: semantic-version~=2.0 in /usr/local/lib/python3.10/dist-packages (from gradio) (2.10.0)\n",
            "Requirement already satisfied: starlette<1.0,>=0.40.0 in /usr/local/lib/python3.10/dist-packages (from gradio) (0.41.3)\n",
            "Requirement already satisfied: tomlkit<0.14.0,>=0.12.0 in /usr/local/lib/python3.10/dist-packages (from gradio) (0.13.2)\n",
            "Requirement already satisfied: typer<1.0,>=0.12 in /usr/local/lib/python3.10/dist-packages (from gradio) (0.15.0)\n",
            "Requirement already satisfied: typing-extensions~=4.0 in /usr/local/lib/python3.10/dist-packages (from gradio) (4.12.2)\n",
            "Requirement already satisfied: uvicorn>=0.14.0 in /usr/local/lib/python3.10/dist-packages (from gradio) (0.32.1)\n",
            "Requirement already satisfied: fsspec in /usr/local/lib/python3.10/dist-packages (from gradio-client==1.5.1->gradio) (2024.10.0)\n",
            "Requirement already satisfied: websockets<15.0,>=10.0 in /usr/local/lib/python3.10/dist-packages (from gradio-client==1.5.1->gradio) (14.1)\n",
            "Requirement already satisfied: idna>=2.8 in /usr/local/lib/python3.10/dist-packages (from anyio<5.0,>=3.0->gradio) (3.10)\n",
            "Requirement already satisfied: sniffio>=1.1 in /usr/local/lib/python3.10/dist-packages (from anyio<5.0,>=3.0->gradio) (1.3.1)\n",
            "Requirement already satisfied: exceptiongroup in /usr/local/lib/python3.10/dist-packages (from anyio<5.0,>=3.0->gradio) (1.2.2)\n",
            "Requirement already satisfied: certifi in /usr/local/lib/python3.10/dist-packages (from httpx>=0.24.1->gradio) (2024.8.30)\n",
            "Requirement already satisfied: httpcore==1.* in /usr/local/lib/python3.10/dist-packages (from httpx>=0.24.1->gradio) (1.0.7)\n",
            "Requirement already satisfied: h11<0.15,>=0.13 in /usr/local/lib/python3.10/dist-packages (from httpcore==1.*->httpx>=0.24.1->gradio) (0.14.0)\n",
            "Requirement already satisfied: filelock in /usr/local/lib/python3.10/dist-packages (from huggingface-hub>=0.25.1->gradio) (3.16.1)\n",
            "Requirement already satisfied: requests in /usr/local/lib/python3.10/dist-packages (from huggingface-hub>=0.25.1->gradio) (2.32.3)\n",
            "Requirement already satisfied: tqdm>=4.42.1 in /usr/local/lib/python3.10/dist-packages (from huggingface-hub>=0.25.1->gradio) (4.66.6)\n",
            "Requirement already satisfied: python-dateutil>=2.8.2 in /usr/local/lib/python3.10/dist-packages (from pandas<3.0,>=1.0->gradio) (2.8.2)\n",
            "Requirement already satisfied: pytz>=2020.1 in /usr/local/lib/python3.10/dist-packages (from pandas<3.0,>=1.0->gradio) (2024.2)\n",
            "Requirement already satisfied: tzdata>=2022.7 in /usr/local/lib/python3.10/dist-packages (from pandas<3.0,>=1.0->gradio) (2024.2)\n",
            "Requirement already satisfied: annotated-types>=0.6.0 in /usr/local/lib/python3.10/dist-packages (from pydantic>=2.0->gradio) (0.7.0)\n",
            "Requirement already satisfied: pydantic-core==2.27.1 in /usr/local/lib/python3.10/dist-packages (from pydantic>=2.0->gradio) (2.27.1)\n",
            "Requirement already satisfied: click>=8.0.0 in /usr/local/lib/python3.10/dist-packages (from typer<1.0,>=0.12->gradio) (8.1.7)\n",
            "Requirement already satisfied: shellingham>=1.3.0 in /usr/local/lib/python3.10/dist-packages (from typer<1.0,>=0.12->gradio) (1.5.4)\n",
            "Requirement already satisfied: rich>=10.11.0 in /usr/local/lib/python3.10/dist-packages (from typer<1.0,>=0.12->gradio) (13.9.4)\n",
            "Requirement already satisfied: six>=1.5 in /usr/local/lib/python3.10/dist-packages (from python-dateutil>=2.8.2->pandas<3.0,>=1.0->gradio) (1.16.0)\n",
            "Requirement already satisfied: markdown-it-py>=2.2.0 in /usr/local/lib/python3.10/dist-packages (from rich>=10.11.0->typer<1.0,>=0.12->gradio) (3.0.0)\n",
            "Requirement already satisfied: pygments<3.0.0,>=2.13.0 in /usr/local/lib/python3.10/dist-packages (from rich>=10.11.0->typer<1.0,>=0.12->gradio) (2.18.0)\n",
            "Requirement already satisfied: charset-normalizer<4,>=2 in /usr/local/lib/python3.10/dist-packages (from requests->huggingface-hub>=0.25.1->gradio) (3.4.0)\n",
            "Requirement already satisfied: urllib3<3,>=1.21.1 in /usr/local/lib/python3.10/dist-packages (from requests->huggingface-hub>=0.25.1->gradio) (2.2.3)\n",
            "Requirement already satisfied: mdurl~=0.1 in /usr/local/lib/python3.10/dist-packages (from markdown-it-py>=2.2.0->rich>=10.11.0->typer<1.0,>=0.12->gradio) (0.1.2)\n",
            "Requirement already satisfied: langchain-together in /usr/local/lib/python3.10/dist-packages (0.2.0)\n",
            "Requirement already satisfied: aiohttp<4.0.0,>=3.9.1 in /usr/local/lib/python3.10/dist-packages (from langchain-together) (3.11.9)\n",
            "Requirement already satisfied: langchain-core<0.4,>=0.3 in /usr/local/lib/python3.10/dist-packages (from langchain-together) (0.3.21)\n",
            "Requirement already satisfied: langchain-openai<0.3,>=0.2 in /usr/local/lib/python3.10/dist-packages (from langchain-together) (0.2.12)\n",
            "Requirement already satisfied: requests<3,>=2 in /usr/local/lib/python3.10/dist-packages (from langchain-together) (2.32.3)\n",
            "Requirement already satisfied: aiohappyeyeballs>=2.3.0 in /usr/local/lib/python3.10/dist-packages (from aiohttp<4.0.0,>=3.9.1->langchain-together) (2.4.4)\n",
            "Requirement already satisfied: aiosignal>=1.1.2 in /usr/local/lib/python3.10/dist-packages (from aiohttp<4.0.0,>=3.9.1->langchain-together) (1.3.1)\n",
            "Requirement already satisfied: async-timeout<6.0,>=4.0 in /usr/local/lib/python3.10/dist-packages (from aiohttp<4.0.0,>=3.9.1->langchain-together) (4.0.3)\n",
            "Requirement already satisfied: attrs>=17.3.0 in /usr/local/lib/python3.10/dist-packages (from aiohttp<4.0.0,>=3.9.1->langchain-together) (24.2.0)\n",
            "Requirement already satisfied: frozenlist>=1.1.1 in /usr/local/lib/python3.10/dist-packages (from aiohttp<4.0.0,>=3.9.1->langchain-together) (1.5.0)\n",
            "Requirement already satisfied: multidict<7.0,>=4.5 in /usr/local/lib/python3.10/dist-packages (from aiohttp<4.0.0,>=3.9.1->langchain-together) (6.1.0)\n",
            "Requirement already satisfied: propcache>=0.2.0 in /usr/local/lib/python3.10/dist-packages (from aiohttp<4.0.0,>=3.9.1->langchain-together) (0.2.1)\n",
            "Requirement already satisfied: yarl<2.0,>=1.17.0 in /usr/local/lib/python3.10/dist-packages (from aiohttp<4.0.0,>=3.9.1->langchain-together) (1.18.3)\n",
            "Requirement already satisfied: PyYAML>=5.3 in /usr/local/lib/python3.10/dist-packages (from langchain-core<0.4,>=0.3->langchain-together) (6.0.2)\n",
            "Requirement already satisfied: jsonpatch<2.0,>=1.33 in /usr/local/lib/python3.10/dist-packages (from langchain-core<0.4,>=0.3->langchain-together) (1.33)\n",
            "Requirement already satisfied: langsmith<0.2.0,>=0.1.125 in /usr/local/lib/python3.10/dist-packages (from langchain-core<0.4,>=0.3->langchain-together) (0.1.147)\n",
            "Requirement already satisfied: packaging<25,>=23.2 in /usr/local/lib/python3.10/dist-packages (from langchain-core<0.4,>=0.3->langchain-together) (24.2)\n",
            "Requirement already satisfied: pydantic<3.0.0,>=2.5.2 in /usr/local/lib/python3.10/dist-packages (from langchain-core<0.4,>=0.3->langchain-together) (2.10.3)\n",
            "Requirement already satisfied: tenacity!=8.4.0,<10.0.0,>=8.1.0 in /usr/local/lib/python3.10/dist-packages (from langchain-core<0.4,>=0.3->langchain-together) (9.0.0)\n",
            "Requirement already satisfied: typing-extensions>=4.7 in /usr/local/lib/python3.10/dist-packages (from langchain-core<0.4,>=0.3->langchain-together) (4.12.2)\n",
            "Requirement already satisfied: openai<2.0.0,>=1.55.3 in /usr/local/lib/python3.10/dist-packages (from langchain-openai<0.3,>=0.2->langchain-together) (1.57.2)\n",
            "Requirement already satisfied: tiktoken<1,>=0.7 in /usr/local/lib/python3.10/dist-packages (from langchain-openai<0.3,>=0.2->langchain-together) (0.8.0)\n",
            "Requirement already satisfied: charset-normalizer<4,>=2 in /usr/local/lib/python3.10/dist-packages (from requests<3,>=2->langchain-together) (3.4.0)\n",
            "Requirement already satisfied: idna<4,>=2.5 in /usr/local/lib/python3.10/dist-packages (from requests<3,>=2->langchain-together) (3.10)\n",
            "Requirement already satisfied: urllib3<3,>=1.21.1 in /usr/local/lib/python3.10/dist-packages (from requests<3,>=2->langchain-together) (2.2.3)\n",
            "Requirement already satisfied: certifi>=2017.4.17 in /usr/local/lib/python3.10/dist-packages (from requests<3,>=2->langchain-together) (2024.8.30)\n",
            "Requirement already satisfied: jsonpointer>=1.9 in /usr/local/lib/python3.10/dist-packages (from jsonpatch<2.0,>=1.33->langchain-core<0.4,>=0.3->langchain-together) (3.0.0)\n",
            "Requirement already satisfied: httpx<1,>=0.23.0 in /usr/local/lib/python3.10/dist-packages (from langsmith<0.2.0,>=0.1.125->langchain-core<0.4,>=0.3->langchain-together) (0.28.0)\n",
            "Requirement already satisfied: orjson<4.0.0,>=3.9.14 in /usr/local/lib/python3.10/dist-packages (from langsmith<0.2.0,>=0.1.125->langchain-core<0.4,>=0.3->langchain-together) (3.10.12)\n",
            "Requirement already satisfied: requests-toolbelt<2.0.0,>=1.0.0 in /usr/local/lib/python3.10/dist-packages (from langsmith<0.2.0,>=0.1.125->langchain-core<0.4,>=0.3->langchain-together) (1.0.0)\n",
            "Requirement already satisfied: anyio<5,>=3.5.0 in /usr/local/lib/python3.10/dist-packages (from openai<2.0.0,>=1.55.3->langchain-openai<0.3,>=0.2->langchain-together) (3.7.1)\n",
            "Requirement already satisfied: distro<2,>=1.7.0 in /usr/local/lib/python3.10/dist-packages (from openai<2.0.0,>=1.55.3->langchain-openai<0.3,>=0.2->langchain-together) (1.9.0)\n",
            "Requirement already satisfied: jiter<1,>=0.4.0 in /usr/local/lib/python3.10/dist-packages (from openai<2.0.0,>=1.55.3->langchain-openai<0.3,>=0.2->langchain-together) (0.8.0)\n",
            "Requirement already satisfied: sniffio in /usr/local/lib/python3.10/dist-packages (from openai<2.0.0,>=1.55.3->langchain-openai<0.3,>=0.2->langchain-together) (1.3.1)\n",
            "Requirement already satisfied: tqdm>4 in /usr/local/lib/python3.10/dist-packages (from openai<2.0.0,>=1.55.3->langchain-openai<0.3,>=0.2->langchain-together) (4.66.6)\n",
            "Requirement already satisfied: annotated-types>=0.6.0 in /usr/local/lib/python3.10/dist-packages (from pydantic<3.0.0,>=2.5.2->langchain-core<0.4,>=0.3->langchain-together) (0.7.0)\n",
            "Requirement already satisfied: pydantic-core==2.27.1 in /usr/local/lib/python3.10/dist-packages (from pydantic<3.0.0,>=2.5.2->langchain-core<0.4,>=0.3->langchain-together) (2.27.1)\n",
            "Requirement already satisfied: regex>=2022.1.18 in /usr/local/lib/python3.10/dist-packages (from tiktoken<1,>=0.7->langchain-openai<0.3,>=0.2->langchain-together) (2024.9.11)\n",
            "Requirement already satisfied: exceptiongroup in /usr/local/lib/python3.10/dist-packages (from anyio<5,>=3.5.0->openai<2.0.0,>=1.55.3->langchain-openai<0.3,>=0.2->langchain-together) (1.2.2)\n",
            "Requirement already satisfied: httpcore==1.* in /usr/local/lib/python3.10/dist-packages (from httpx<1,>=0.23.0->langsmith<0.2.0,>=0.1.125->langchain-core<0.4,>=0.3->langchain-together) (1.0.7)\n",
            "Requirement already satisfied: h11<0.15,>=0.13 in /usr/local/lib/python3.10/dist-packages (from httpcore==1.*->httpx<1,>=0.23.0->langsmith<0.2.0,>=0.1.125->langchain-core<0.4,>=0.3->langchain-together) (0.14.0)\n"
          ]
        }
      ],
      "source": [
        "# Required imports\n",
        "!pip install gradio\n",
        "import gradio as gr\n",
        "!pip install langchain-together\n",
        "from langchain_together import ChatTogether\n",
        "from langchain.chains import LLMChain\n",
        "from langchain.prompts import PromptTemplate\n",
        "import requests\n",
        "import pandas as pd\n",
        "import os\n",
        "from datetime import datetime\n",
        "from kaggle.api.kaggle_api_extended import KaggleApi\n"
      ]
    },
    {
      "cell_type": "code",
      "source": [
        "# Set environment variables\n",
        "os.environ[\"TOGETHER_API_KEY\"] = \"207fee5eecff4d87a306a8566da4cd025ae6b252d14302d980dab27a618033f9\"\n",
        "os.environ[\"KAGGLE_USERNAME\"] = \"dayanacabrera\"\n",
        "os.environ[\"KAGGLE_KEY\"] = \"c90cf5759564ce5ca847713f7a36f72f\""
      ],
      "metadata": {
        "id": "Eju93n95ozhE"
      },
      "execution_count": 3,
      "outputs": []
    },
    {
      "cell_type": "code",
      "source": [
        "# Initialize the Together.ai model\n",
        "llm = ChatTogether(\n",
        "    temperature=0.0,\n",
        "    model=\"meta-llama/Meta-Llama-3.1-8B-Instruct-Turbo\"\n",
        ")"
      ],
      "metadata": {
        "id": "kueKFjlSo00V"
      },
      "execution_count": 4,
      "outputs": []
    },
    {
      "cell_type": "code",
      "source": [
        "# Initialize Kaggle API\n",
        "def init_kaggle():\n",
        "    api = KaggleApi()\n",
        "    api.authenticate()\n",
        "    return api"
      ],
      "metadata": {
        "id": "oVDcETclptW_"
      },
      "execution_count": 5,
      "outputs": []
    },
    {
      "cell_type": "code",
      "source": [
        "# Function to fetch datasets from various sources\n",
        "def fetch_datasets(query, source):\n",
        "    # Define API endpoints for different data sources\n",
        "    sources = {\n",
        "        'healthdata': 'https://healthdata.gov/api/search',\n",
        "        'data_gov': 'https://catalog.data.gov/api/search',\n",
        "        'who': 'https://www.who.int/data/api/search',\n",
        "        'nih': 'https://www.nih.gov/api/search',\n",
        "        'kaggle': None\n",
        "    }\n",
        "\n",
        "    # Special handling for Kaggle datasets\n",
        "    if source == 'kaggle':\n",
        "        try:\n",
        "            api = init_kaggle()\n",
        "            datasets = api.dataset_list(search=query, tag='health')\n",
        "            return [dataset.ref for dataset in datasets]\n",
        "        except Exception as e:\n",
        "            print(f\"Kaggle API error: {e}\")\n",
        "            return None\n",
        "\n",
        "    # Handle other API requests\n",
        "    try:\n",
        "        response = requests.get(sources[source], params={'q': query})\n",
        "        return response.json()\n",
        "    except Exception as e:\n",
        "        print(f\"API error for {source}: {e}\")\n",
        "        return None"
      ],
      "metadata": {
        "id": "lNFA4tpOpu6b"
      },
      "execution_count": 6,
      "outputs": []
    },
    {
      "cell_type": "code",
      "source": [
        "# General search function across all sources\n",
        "def general_search(query):\n",
        "    # Fetch Kaggle datasets first\n",
        "    kaggle_datasets = fetch_datasets(query, 'kaggle')\n",
        "\n",
        "    # Create prompt template for the LLM\n",
        "    prompt = PromptTemplate(\n",
        "        input_variables=[\"query\", \"kaggle_data\"],\n",
        "        template=\"\"\"\n",
        "        Comprehensive medical dataset search for: {query}\n",
        "\n",
        "        Available Kaggle Datasets: {kaggle_data}\n",
        "\n",
        "        Provide a summary including:\n",
        "        1. Key findings from medical databases\n",
        "        2. Relevant clinical studies\n",
        "        3. Available research data\n",
        "        4. Statistical highlights\n",
        "        \"\"\"\n",
        "    )\n",
        "\n",
        "    chain = LLMChain(llm=llm, prompt=prompt)\n",
        "    return chain.run({\"query\": query, \"kaggle_data\": str(kaggle_datasets)})"
      ],
      "metadata": {
        "id": "UmS_tHLJsxnA"
      },
      "execution_count": 7,
      "outputs": []
    },
    {
      "cell_type": "code",
      "source": [
        "# Function to display relevant Kaggle datasets\n",
        "def show_relevant_datasets(query=\"diabetes\"):\n",
        "    try:\n",
        "        api = init_kaggle()\n",
        "        datasets = api.dataset_list(search=query, tag='health')\n",
        "        dataset_info = []\n",
        "\n",
        "        for dataset in datasets[:8]:  # Top 8 relevant datasets\n",
        "            dataset_info.append([\n",
        "                dataset.title,\n",
        "                f\"[View Dataset](https://www.kaggle.com/datasets/{dataset.ref})\",\n",
        "                f\"{dataset.usabilityRating:.1f}/10\",\n",
        "                f\"{dataset.downloadCount:,}\"\n",
        "            ])\n",
        "\n",
        "        if not dataset_info:\n",
        "            dataset_info = [[\"No datasets found\", \"Try another search term\", \"N/A\", \"N/A\"]]\n",
        "\n",
        "    except Exception as e:\n",
        "        dataset_info = [[\"API Error\", \"Could not fetch datasets\", \"N/A\", \"N/A\"]]\n",
        "\n",
        "    return pd.DataFrame(\n",
        "        dataset_info,\n",
        "        columns=[\"Dataset\", \"Link\", \"Usability Score\", \"Downloads\"]\n",
        "    )"
      ],
      "metadata": {
        "id": "9E8rKprGs4J_"
      },
      "execution_count": 8,
      "outputs": []
    },
    {
      "cell_type": "code",
      "source": [
        "# Main Gradio interface\n",
        "def build_medimine_interface():\n",
        "    with gr.Blocks(title=\"MediMine - Medical Dataset Explorer\") as app:\n",
        "        gr.Markdown(\"\"\"\n",
        "        # 🏥 MediMine: Medical Dataset Explorer\n",
        "        ## Comprehensive Medical Dataset Search Platform\n",
        "        Search across multiple medical databases and find relevant datasets instantly.\n",
        "        \"\"\")\n",
        "\n",
        "        with gr.Row():\n",
        "            with gr.Column():\n",
        "                query_input = gr.Textbox(\n",
        "                    label=\"Enter Medical Search Query\",\n",
        "                    placeholder=\"e.g., diabetes type 2 research data\",\n",
        "                    lines=2\n",
        "                )\n",
        "                search_btn = gr.Button(\"🔍 General Search\", variant=\"primary\")\n",
        "\n",
        "        with gr.Row():\n",
        "            diagnosis_btn = gr.Button(\"🏥 Diagnosis\")\n",
        "            treatment_btn = gr.Button(\"💊 Treatment\")\n",
        "            genes_btn = gr.Button(\"🧬 Genetics\")\n",
        "            trials_btn = gr.Button(\"🔬 Trials\")\n",
        "            kaggle_btn = gr.Button(\"📊 Kaggle\")\n",
        "            imaging_btn = gr.Button(\"🔎 Imaging\")\n",
        "\n",
        "        output_text = gr.Textbox(\n",
        "            label=\"Search Results\",\n",
        "            lines=10,\n",
        "            placeholder=\"Results will appear here...\"\n",
        "        )\n",
        "\n",
        "        dataset_display = gr.DataFrame(\n",
        "            value=show_relevant_datasets().values.tolist(),\n",
        "            headers=[\"Dataset\", \"Link\", \"Usability Score\", \"Downloads\"],\n",
        "            label=\"Relevant Kaggle Datasets\"\n",
        "        )\n",
        "\n",
        "        # Update both search results and dataset recommendations\n",
        "        def update_results(query, search_type='general'):\n",
        "            if search_type == 'general':\n",
        "                search_result = general_search(query)\n",
        "            else:\n",
        "                search_result = specific_search(query, search_type)\n",
        "            datasets = show_relevant_datasets(query).values.tolist()\n",
        "            return search_result, datasets\n",
        "\n",
        "        # Connect buttons to functions\n",
        "        search_btn.click(\n",
        "            fn=lambda q: update_results(q, 'general'),\n",
        "            inputs=query_input,\n",
        "            outputs=[output_text, dataset_display]\n",
        "        )\n",
        "\n",
        "        diagnosis_btn.click(\n",
        "            fn=lambda q: update_results(q, 'diagnosis'),\n",
        "            inputs=query_input,\n",
        "            outputs=[output_text, dataset_display]\n",
        "        )\n",
        "\n",
        "        treatment_btn.click(\n",
        "            fn=lambda q: update_results(q, 'treatment'),\n",
        "            inputs=query_input,\n",
        "            outputs=[output_text, dataset_display]\n",
        "        )\n",
        "\n",
        "        genes_btn.click(\n",
        "            fn=lambda q: update_results(q, 'genes'),\n",
        "            inputs=query_input,\n",
        "            outputs=[output_text, dataset_display]\n",
        "        )\n",
        "\n",
        "        trials_btn.click(\n",
        "            fn=lambda q: update_results(q, 'trials'),\n",
        "            inputs=query_input,\n",
        "            outputs=[output_text, dataset_display]\n",
        "        )\n",
        "\n",
        "        kaggle_btn.click(\n",
        "            fn=lambda q: update_results(q, 'kaggle'),\n",
        "            inputs=query_input,\n",
        "            outputs=[output_text, dataset_display]\n",
        "        )\n",
        "\n",
        "        imaging_btn.click(\n",
        "            fn=lambda q: update_results(q, 'imaging'),\n",
        "            inputs=query_input,\n",
        "            outputs=[output_text, dataset_display]\n",
        "        )\n",
        "\n",
        "    return app\n",
        "\n",
        "# Launch the application\n",
        "if __name__ == \"__main__\":\n",
        "    app = build_medimine_interface()\n",
        "    app.launch(share=True)"
      ],
      "metadata": {
        "colab": {
          "base_uri": "https://localhost:8080/",
          "height": 610
        },
        "id": "qZ7qcFgWELnM",
        "outputId": "c7f9c5bb-d39d-4855-a739-083b0f2374b5"
      },
      "execution_count": 9,
      "outputs": [
        {
          "output_type": "stream",
          "name": "stdout",
          "text": [
            "Colab notebook detected. To show errors in colab notebook, set debug=True in launch()\n",
            "* Running on public URL: https://382c5dfb7270bc9eaf.gradio.live\n",
            "\n",
            "This share link expires in 72 hours. For free permanent hosting and GPU upgrades, run `gradio deploy` from the terminal in the working directory to deploy to Hugging Face Spaces (https://huggingface.co/spaces)\n"
          ]
        },
        {
          "output_type": "display_data",
          "data": {
            "text/plain": [
              "<IPython.core.display.HTML object>"
            ],
            "text/html": [
              "<div><iframe src=\"https://382c5dfb7270bc9eaf.gradio.live\" width=\"100%\" height=\"500\" allow=\"autoplay; camera; microphone; clipboard-read; clipboard-write;\" frameborder=\"0\" allowfullscreen></iframe></div>"
            ]
          },
          "metadata": {}
        }
      ]
    },
    {
      "cell_type": "markdown",
      "source": [
        "**Purpose and case use of APP:**\n",
        "\n",
        "The project you're working on, MediMine - Medical Dataset Explorer, aims to be the first point of referral for healthcare dataset searches, offering a comprehensive, one-stop solution for finding relevant medical data. Users can input a query (e.g., “diabetes type 2 research data”), and the app will search across multiple trusted sources, including Kaggle, government health portals, and leading research organizations like WHO and NIH. By leveraging the LangChain framework with Together.ai’s language model, the app processes queries and provides detailed insights, metadata, and recommendations, making the search process efficient and accurate. The platform is designed to cover a wide range of healthcare topics, offering category-specific searches for areas like diagnosis, treatment, genetics, clinical trials, and imaging.\n",
        "\n",
        "What differentiates MediMine from other healthcare data search tools is its goal to provide a complete, holistic search experience. Unlike other apps that may only pull data from a limited set of sources, MediMine aggregates datasets from various trusted platforms, ensuring that the search is thorough and comprehensive. The use of a sophisticated AI language model adds another layer of value, enabling the app to provide contextual summaries and insights alongside dataset links, usability scores, and other metadata. This unique combination of diverse data sources, AI-powered insights, and a user-friendly interface positions MediMine as the ultimate first-stop app for anyone looking to explore healthcare datasets—knowing that the search will be exhaustive and complete."
      ],
      "metadata": {
        "id": "1Hit2aua-iL3"
      }
    }
  ]
}