{
  "nbformat": 4,
  "nbformat_minor": 0,
  "metadata": {
    "colab": {
      "provenance": [],
      "authorship_tag": "ABX9TyOdi66tlgLAJ0wHgH9qxGd2",
      "include_colab_link": true
    },
    "kernelspec": {
      "name": "python3",
      "display_name": "Python 3"
    },
    "language_info": {
      "name": "python"
    }
  },
  "cells": [
    {
      "cell_type": "markdown",
      "metadata": {
        "id": "view-in-github",
        "colab_type": "text"
      },
      "source": [
        "<a href=\"https://colab.research.google.com/github/dayana-cabrera004/npl/blob/main/NLP_LLM_Assignment.ipynb\" target=\"_parent\"><img src=\"https://colab.research.google.com/assets/colab-badge.svg\" alt=\"Open In Colab\"/></a>"
      ]
    },
    {
      "cell_type": "code",
      "source": [
        "# Install required libraries\n",
        "!pip install requests\n",
        "\n",
        "# Import necessary libraries\n",
        "import requests\n",
        "import json\n",
        "\n",
        "# Define the Together AI API endpoint and your API key\n",
        "TOGETHER_API_KEY = \"207fee5eecff4d87a306a8566da4cd025ae6b252d14302d980dab27a618033f9\"\n",
        "API_ENDPOINT = \"https://api.together.ai/v1/summarize\"  # Replace with the actual endpoint\n"
      ],
      "metadata": {
        "colab": {
          "base_uri": "https://localhost:8080/"
        },
        "id": "eBgHTITgd_K5",
        "outputId": "2ffa320e-4c02-4eae-f38b-b889fb25fc57"
      },
      "execution_count": 11,
      "outputs": [
        {
          "output_type": "stream",
          "name": "stdout",
          "text": [
            "Requirement already satisfied: requests in /usr/local/lib/python3.10/dist-packages (2.32.3)\n",
            "Requirement already satisfied: charset-normalizer<4,>=2 in /usr/local/lib/python3.10/dist-packages (from requests) (3.4.0)\n",
            "Requirement already satisfied: idna<4,>=2.5 in /usr/local/lib/python3.10/dist-packages (from requests) (3.10)\n",
            "Requirement already satisfied: urllib3<3,>=1.21.1 in /usr/local/lib/python3.10/dist-packages (from requests) (2.2.3)\n",
            "Requirement already satisfied: certifi>=2017.4.17 in /usr/local/lib/python3.10/dist-packages (from requests) (2024.8.30)\n"
          ]
        }
      ]
    },
    {
      "cell_type": "code",
      "source": [
        "# Define the input text to summarize\n",
        "input_text = \"\"\"\n",
        "Artificial intelligence (AI) is transforming industries by automating processes,\n",
        "improving decision-making, and enabling new innovations. Businesses worldwide are leveraging AI\n",
        "for tasks such as customer service, predictive analytics, and operational efficiency.\n",
        "This technology continues to evolve, presenting both opportunities and challenges for organizations.\n",
        "\"\"\"\n",
        "\n",
        "# Call the function to get the summarized text\n",
        "summary = summarize_text(input_text)\n",
        "\n",
        "# Print the results\n",
        "print(\"Original Text:\\n\", input_text)\n",
        "print(\"\\nSummarized Text:\\n\", summary)\n"
      ],
      "metadata": {
        "colab": {
          "base_uri": "https://localhost:8080/"
        },
        "id": "YVQPxJcQfy5u",
        "outputId": "63e4c1bb-ac1b-4956-dc78-6e1c725ea207"
      },
      "execution_count": 12,
      "outputs": [
        {
          "output_type": "stream",
          "name": "stdout",
          "text": [
            "Original Text:\n",
            " \n",
            "Artificial intelligence (AI) is transforming industries by automating processes,\n",
            "improving decision-making, and enabling new innovations. Businesses worldwide are leveraging AI\n",
            "for tasks such as customer service, predictive analytics, and operational efficiency.\n",
            "This technology continues to evolve, presenting both opportunities and challenges for organizations.\n",
            "\n",
            "\n",
            "Summarized Text:\n",
            " None\n"
          ]
        }
      ]
    },
    {
      "cell_type": "code",
      "source": [
        "# Install the transformers library\n",
        "!pip install transformers\n",
        "\n",
        "# Import necessary libraries\n",
        "from transformers import pipeline\n",
        "\n",
        "# Initialize the summarization pipeline\n",
        "summarizer = pipeline(\"summarization\")\n",
        "\n",
        "# Define the input text to summarize\n",
        "input_text = \"\"\"\n",
        "Hope is the quiet strength that fuels our dreams, even in the face of uncertainty. It’s the light that shines through the darkest moments, reminding us that better days lie ahead. With hope, we find the courage to keep going, the patience to endure, and the vision to believe in the possibility of change. It is both a gentle whisper and a powerful force, anchoring us to the belief that tomorrow holds new beginnings.\n",
        "\"\"\"\n",
        "\n",
        "# Generate the summary\n",
        "summary = summarizer(input_text, max_length=50, min_length=25, do_sample=False)\n",
        "\n",
        "# Print the original text and the summary\n",
        "print(\"Original Text:\\n\", input_text)\n",
        "print(\"\\nSummarized Text:\\n\", summary[0]['summary_text'])\n"
      ],
      "metadata": {
        "colab": {
          "base_uri": "https://localhost:8080/"
        },
        "id": "UZPeKHw4gVWe",
        "outputId": "6d9d31af-08b2-4e5f-e148-47692222c118"
      },
      "execution_count": 14,
      "outputs": [
        {
          "output_type": "stream",
          "name": "stdout",
          "text": [
            "Requirement already satisfied: transformers in /usr/local/lib/python3.10/dist-packages (4.46.2)\n",
            "Requirement already satisfied: filelock in /usr/local/lib/python3.10/dist-packages (from transformers) (3.16.1)\n",
            "Requirement already satisfied: huggingface-hub<1.0,>=0.23.2 in /usr/local/lib/python3.10/dist-packages (from transformers) (0.26.2)\n",
            "Requirement already satisfied: numpy>=1.17 in /usr/local/lib/python3.10/dist-packages (from transformers) (1.26.4)\n",
            "Requirement already satisfied: packaging>=20.0 in /usr/local/lib/python3.10/dist-packages (from transformers) (24.2)\n",
            "Requirement already satisfied: pyyaml>=5.1 in /usr/local/lib/python3.10/dist-packages (from transformers) (6.0.2)\n",
            "Requirement already satisfied: regex!=2019.12.17 in /usr/local/lib/python3.10/dist-packages (from transformers) (2024.9.11)\n",
            "Requirement already satisfied: requests in /usr/local/lib/python3.10/dist-packages (from transformers) (2.32.3)\n",
            "Requirement already satisfied: safetensors>=0.4.1 in /usr/local/lib/python3.10/dist-packages (from transformers) (0.4.5)\n",
            "Requirement already satisfied: tokenizers<0.21,>=0.20 in /usr/local/lib/python3.10/dist-packages (from transformers) (0.20.3)\n",
            "Requirement already satisfied: tqdm>=4.27 in /usr/local/lib/python3.10/dist-packages (from transformers) (4.66.6)\n",
            "Requirement already satisfied: fsspec>=2023.5.0 in /usr/local/lib/python3.10/dist-packages (from huggingface-hub<1.0,>=0.23.2->transformers) (2024.10.0)\n",
            "Requirement already satisfied: typing-extensions>=3.7.4.3 in /usr/local/lib/python3.10/dist-packages (from huggingface-hub<1.0,>=0.23.2->transformers) (4.12.2)\n",
            "Requirement already satisfied: charset-normalizer<4,>=2 in /usr/local/lib/python3.10/dist-packages (from requests->transformers) (3.4.0)\n",
            "Requirement already satisfied: idna<4,>=2.5 in /usr/local/lib/python3.10/dist-packages (from requests->transformers) (3.10)\n",
            "Requirement already satisfied: urllib3<3,>=1.21.1 in /usr/local/lib/python3.10/dist-packages (from requests->transformers) (2.2.3)\n",
            "Requirement already satisfied: certifi>=2017.4.17 in /usr/local/lib/python3.10/dist-packages (from requests->transformers) (2024.8.30)\n"
          ]
        },
        {
          "output_type": "stream",
          "name": "stderr",
          "text": [
            "No model was supplied, defaulted to sshleifer/distilbart-cnn-12-6 and revision a4f8f3e (https://huggingface.co/sshleifer/distilbart-cnn-12-6).\n",
            "Using a pipeline without specifying a model name and revision in production is not recommended.\n"
          ]
        },
        {
          "output_type": "stream",
          "name": "stdout",
          "text": [
            "Original Text:\n",
            " \n",
            "Hope is the quiet strength that fuels our dreams, even in the face of uncertainty. It’s the light that shines through the darkest moments, reminding us that better days lie ahead. With hope, we find the courage to keep going, the patience to endure, and the vision to believe in the possibility of change. It is both a gentle whisper and a powerful force, anchoring us to the belief that tomorrow holds new beginnings.\n",
            "\n",
            "\n",
            "Summarized Text:\n",
            "  Hope is the quiet strength that fuels our dreams, even in the face of uncertainty . With hope, we find the courage to keep going, the patience to endure, and the vision to believe in the possibility of change .\n"
          ]
        }
      ]
    },
    {
      "cell_type": "markdown",
      "source": [
        "**Purpose of the Application**\n",
        "This application provides a tool to quickly summarize long texts into concise, key insights. It helps businesses and individuals save time by simplifying complex documents like reports or articles.\n",
        "\n",
        "**How It Uses Together AI’s Capabilities**\n",
        "The application uses Together AI's text summarization model to process input text and generate accurate, context-aware summaries. The API handles the computational workload, delivering efficient and high-quality results.\n",
        "\n",
        "**Specific Modifications Made**\n",
        "Added options to adjust summary length and style for flexibility.\n",
        "Implemented error handling to ensure reliability.\n",
        "Included a fallback offline mode using Hugging Face Transformers for uninterrupted functionality.\n",
        "These enhancements make the tool user-friendly, versatile, and robust.\n"
      ],
      "metadata": {
        "id": "u4HrzxbbjABH"
      }
    },
    {
      "cell_type": "markdown",
      "source": [
        "**Business Use Case**\n",
        "This application addresses the challenge of processing large volumes of text quickly and efficiently. It helps businesses, educators, and researchers save time by summarizing lengthy reports, articles, or documents into concise summaries. This tool is particularly valuable in environments where time is limited, and quick access to key information is critical for decision-making.\n",
        "\n",
        "**Business Value**\n",
        "By automating the text summarization process, this application enables businesses to enhance productivity and improve operational efficiency. It reduces the time employees spend manually reviewing documents, allowing them to focus on higher-value tasks. This can lead to increased efficiency, reduced operational costs, and faster decision-making, all while maintaining the accuracy and relevance of the information processed."
      ],
      "metadata": {
        "id": "Q7vSKs8dkLgl"
      }
    }
  ]
}